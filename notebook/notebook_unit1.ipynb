{
 "cells": [
  {
   "cell_type": "markdown",
   "metadata": {},
   "source": [
    "**Sustainable Software Development, block course, March 2021**  \n",
    "*Scientific Software Center, Institute for Scientific Computing, Dr. Inga Ulusoy*\n",
    "\n",
    "# Analysis of the data\n",
    "\n",
    "Imagine you perform a \"measurement\" of some type and obtain \"scientific data\". You know what your data represents, but you have only a vague idea how different features in the data are connected, and what information you can extract from the data.\n",
    "\n",
    "You would start first with going through the data, making sure your data set is complete and that the result is reasonable. Imagine this already happened.\n",
    "\n",
    "In the next step, you would inspect your data more closely and try to identify structures. That is the step that we are focusing on in this unit.\n",
    "\n",
    "In the `data` folder, you will find several data files (`*.t` and `*.dat`). These are data files generated through some \"new approach\" that hasn't been used in your lab before. No previous analysis software exists, and you are going to establish a protocol for this \"new approach\" and \"publish your results\".\n",
    "\n",
    "The data can be grouped into two categories: \n",
    "1. data to be analyzed using statistical methods;\n",
    "2. data to be analyzed using numerical methods.\n",
    "\n",
    "In your hypothetical lab, you are an \"expert\" in one particular \"method\", and your co-worker is an \"expert\" in the other. Combined these two methods will lead to much more impactful results than if only one of you analyzed the data. Now, the task in this course is to be solved collaboratively with your team member working on one of the analysis approaches, and you working on the other. You will both implement functionality into the same piece of \"software\", but do so collaboratively through git.\n",
    "\n",
    "As you do not know yet which analysis is most meaningful for your data, and how to implement it, you will start with a jupyter notebook. You and your team member will work on the same notebook that will be part of a github repository for your project. This is the task for today. Discuss with your team members who will work on the statistical and who on the numerical analysis."
   ]
  },
  {
   "cell_type": "markdown",
   "metadata": {},
   "source": [
    "## Step 1\n",
    "\n",
    "Accept the assignment through GitHub classroom."
   ]
  },
  {
   "cell_type": "markdown",
   "metadata": {},
   "source": [
    "## Step 2\n",
    "\n",
    "Clone the repository to your local machine."
   ]
  },
  {
   "cell_type": "markdown",
   "metadata": {},
   "source": [
    "## Step 3\n",
    "\n",
    "Start working on task 1 for your analysis approach. \n"
   ]
  },
  {
   "cell_type": "markdown",
   "metadata": {},
   "source": [
    "## Step 4\n",
    "\n",
    "Create your own branch of the repository and commit your changes to your branch; push to the remote repository."
   ]
  },
  {
   "cell_type": "markdown",
   "metadata": {},
   "source": [
    "## Step 5\n",
    "\n",
    "Open a `pull request` so your team member can review your implementation. Likewise, your team member will ask you to review theirs."
   ]
  },
  {
   "cell_type": "markdown",
   "metadata": {},
   "source": [
    "## Step 6\n",
    "\n",
    "Merge the changes in your branch into `main`. Resolve conflicts."
   ]
  },
  {
   "cell_type": "markdown",
   "metadata": {},
   "source": [
    "## Step 7\n",
    "\n",
    "Repeat working on task; committing and pushing to your previously generated branch or a new branch; open a pull request; merge with main; until you have finished all the tasks in your analysis approach. Delete obsolete branches."
   ]
  },
  {
   "cell_type": "markdown",
   "metadata": {},
   "source": [
    "# Start of the analysis notebook\n",
    "\n",
    "**Author : Your Name**  \n",
    "*Date : The date you started working on this*  \n",
    "*Affiliation : The entity under whose name you are working on this*  \n",
    "\n",
    "Place the required modules in the top, followed by required constants and global functions."
   ]
  },
  {
   "cell_type": "code",
   "execution_count": null,
   "metadata": {},
   "outputs": [],
   "source": [
    "# required modules"
   ]
  },
  {
   "cell_type": "code",
   "execution_count": null,
   "metadata": {},
   "outputs": [],
   "source": [
    "# constants and global functions"
   ]
  },
  {
   "cell_type": "code",
   "execution_count": null,
   "metadata": {},
   "outputs": [],
   "source": [
    "# reading of the data files"
   ]
  },
  {
   "cell_type": "markdown",
   "metadata": {},
   "source": [
    "# Statistical analysis\n",
    "\n",
    "Find correlations in the data sets. Analyse the data statistically and plot your results.  \n",
    "\n",
    "Here we would want to do everything with pandas and leave the data in a dataframe. The files that are relevant to you are `expect.t`, `npop.t` and `table.dat`."
   ]
  },
  {
   "cell_type": "markdown",
   "metadata": {},
   "source": [
    "### Task 1: Read in expec.t and plot relevant data"
   ]
  },
  {
   "cell_type": "code",
   "execution_count": null,
   "metadata": {},
   "outputs": [],
   "source": [
    "import pandas as pd \n",
    "import matplotlib.pyplot as plt\n",
    "expec_df = pd.read_csv('../data/expec.t', sep='\\s+')\n",
    "expec_df"
   ]
  },
  {
   "cell_type": "markdown",
   "metadata": {},
   "source": [
    "We can discard the entries norm, \\<x>, and \\<y> as these are mostly constant."
   ]
  },
  {
   "cell_type": "code",
   "execution_count": null,
   "metadata": {},
   "outputs": [],
   "source": [
    "expec_filtered = expec_df.drop(columns=['norm', '<x>','<y>'])\n",
    "expec_filtered\n"
   ]
  },
  {
   "cell_type": "code",
   "execution_count": null,
   "metadata": {},
   "outputs": [],
   "source": [
    "# eliminate columns based on the variance: if the variance of the values\n",
    "# in a column is below a given threshold, that column is discarded\n",
    "variance_series = expec_filtered.var()\n",
    "variance_series\n",
    "\n",
    "var_cutoff = 1e-25\n",
    "low_variance_columns = variance_series[variance_series < var_cutoff].index.tolist()\n",
    "low_variance_columns"
   ]
  },
  {
   "cell_type": "code",
   "execution_count": null,
   "metadata": {},
   "outputs": [],
   "source": [
    "expec_high_var = expec_filtered.drop(columns=low_variance_columns)\n",
    "expec_high_var\n",
    "# set time as index\n",
    "expec_high_var.set_index('time', inplace=True)\n",
    "expec_high_var"
   ]
  },
  {
   "cell_type": "markdown",
   "metadata": {},
   "source": [
    "### Task 2: Create plots of the relevant data and save as .pdf."
   ]
  },
  {
   "cell_type": "code",
   "execution_count": null,
   "metadata": {},
   "outputs": [],
   "source": [
    "fig, axes = plt.subplots(2, 1, figsize=(10, 8))\n",
    "\n",
    "axes[0].plot(expec_filtered['time'], expec_filtered['<z>'])\n",
    "axes[0].set_xlabel('Time')\n",
    "axes[0].set_ylabel('<z>')\n",
    "axes[0].grid(True)\n",
    "\n",
    "axes[1].plot(expec_filtered['time'], expec_filtered['<H>'])\n",
    "axes[1].set_xlabel('Time')\n",
    "axes[1].set_ylabel('<H>')\n",
    "axes[1].grid(True)\n",
    "\n",
    "plt.tight_layout()\n",
    "plt.savefig('expec_plots.pdf', format='pdf', dpi=300, bbox_inches='tight')\n",
    "plt.show()\n",
    "plt.savefig('expec_plots.png', format='png', dpi=300, bbox_inches='tight')"
   ]
  },
  {
   "cell_type": "markdown",
   "metadata": {},
   "source": [
    "### Task 3: Read in file `npop.t` and analyze correlations in the data"
   ]
  },
  {
   "cell_type": "code",
   "execution_count": null,
   "metadata": {},
   "outputs": [],
   "source": [
    "# read in npop.t\n",
    "npop_df = pd.read_csv('../data/npop.t', sep='\\s+')\n",
    "npop_df\n",
    "# set time as index\n",
    "npop_df.set_index('time', inplace=True)\n",
    "npop_df"
   ]
  },
  {
   "cell_type": "code",
   "execution_count": null,
   "metadata": {},
   "outputs": [],
   "source": [
    "# discard all columns with variance below a set threshold - we can consider them as constant\n",
    "variance_series_npop = npop_df.var()\n",
    "variance_series_npop\n",
    "var_cutoff_npop = 1e-7\n",
    "low_variance_columns_npop = variance_series_npop[variance_series_npop < var_cutoff_npop].index.tolist()\n",
    "npop_high_var = npop_df.drop(columns=low_variance_columns_npop)\n",
    "npop_high_var"
   ]
  },
  {
   "cell_type": "markdown",
   "metadata": {},
   "source": [
    "Plot the remaining columns. Seaborn prefers \"long format\" (one column for all measurement values, one column to indicate the type) as input, whereas the cvs is in \"wide format\" (one column per measurement type)."
   ]
  },
  {
   "cell_type": "code",
   "execution_count": null,
   "metadata": {},
   "outputs": [],
   "source": [
    "# transform to sparse long matrix, include time index\n",
    "\n",
    "import seaborn as sns\n",
    "npop_long = npop_high_var.melt(ignore_index=False)\n",
    "npop_long\n",
    "\n"
   ]
  },
  {
   "cell_type": "markdown",
   "metadata": {},
   "source": [
    "## Quantify the pairwise correlation in the data\n",
    "\n",
    "- negative correlation: y values decrease for increasing x - large values of one feature correspond to small values of the other feature\n",
    "- weak or no correlation: no trend observable, association between two features is hardly observable\n",
    "- positive correlation: y values increase for decreasing x - small values of one feature correspond to small values of the other feature\n",
    "\n",
    "Remember that correlation does not indicate causation - the reason that two features are associated can lie in their dependence on same factors.\n",
    "\n",
    "Correlate the value pairs using Pearson's $r$. Pearson's $r$ is a measure of the linear relationship between features:\n",
    "\n",
    "$r = \\frac{\\sum_i(x_i − \\bar{x})(y_i − \\bar{y})}{\\sqrt{\\sum_i(x_i − \\bar{x})^2 \\sum_i(y_i − \\bar{y})^2}}$\n",
    "\n",
    "Here, $\\bar{x}$ and $\\bar{y}$ indicate mean values. $i$ runs over the whole data set. For a positive correlation, $r$ is positive, and negative for a negative correlation, with minimum and maximum values of -1 and 1, indicating a perfectly linear relationship. Weakly or not correlated features are characterized by $r$-values close to 0.\n",
    "\n",
    "Other measures of correlation that can be used are Spearman's rank (value pairs follow monotonic function) or Kendall's $\\tau$ (measures ordinal association), but they do not apply here. You can also define measures yourself."
   ]
  },
  {
   "cell_type": "code",
   "execution_count": null,
   "metadata": {},
   "outputs": [],
   "source": [
    "# print the correlation matrix"
   ]
  },
  {
   "cell_type": "markdown",
   "metadata": {},
   "source": [
    "The diagonal values tell us that each value is perfectly correlated with itself. We are not interested in the diagonal values and also not in the correlation with time. We also need to get rid of redundant entries. Finally, we need to find the value pairs that exhibit the highest linear correlation. We still want to know if it is positive or negative correlation, so we cannot get rid of the sign."
   ]
  },
  {
   "cell_type": "code",
   "execution_count": null,
   "metadata": {},
   "outputs": [],
   "source": [
    "# get rid of time column, lower triangular and diagonal entries of the correlation matrix\n",
    "# sort the remaing values according to their absolute value, but keep the sign"
   ]
  },
  {
   "cell_type": "markdown",
   "metadata": {},
   "source": [
    "Note that the entries in the left column are not repeated if they do not change from the row above (so the fourth feature pair is MO3 and MO6)."
   ]
  },
  {
   "cell_type": "markdown",
   "metadata": {},
   "source": [
    "### Task 4: Print the resulting data to a file"
   ]
  },
  {
   "cell_type": "code",
   "execution_count": null,
   "metadata": {},
   "outputs": [],
   "source": [
    "# write to file"
   ]
  },
  {
   "cell_type": "markdown",
   "metadata": {},
   "source": [
    "### Task 5: Calculate the Euclidean distance (L2 norm) for the vectors in `table.dat`\n",
    "\n",
    "\n",
    "The Euclidean distance measures the distance between to objects that are not points:\n",
    "\n",
    "$d(p,q) = \\sqrt{\\left(p-q\\right)^2}$\n",
    "\n",
    "In this case, consider each of the columns in table.dat as a vector in Euclidean space, where column $r(x)$ and column $v(x)$ denote a pair of vectors that should be compared, as well as $r(y)$ and $v(y)$, and r(z) and v(z).\n",
    "\n",
    "(Background: These are dipole moment components in different gauges, the length and velocity gauge.)"
   ]
  },
  {
   "cell_type": "code",
   "execution_count": null,
   "metadata": {},
   "outputs": [],
   "source": [
    "# read in table.dat - I suggest reading it as a numpy array\n",
    "# replace the NaNs by zero"
   ]
  },
  {
   "cell_type": "markdown",
   "metadata": {},
   "source": [
    "Now calculate how different the vectors in column 2 are from column 3, column 4 from column 5, and column 6 from column 7."
   ]
  },
  {
   "cell_type": "code",
   "execution_count": null,
   "metadata": {},
   "outputs": [],
   "source": [
    "# calculate the Euclidean distance"
   ]
  },
  {
   "cell_type": "code",
   "execution_count": null,
   "metadata": {},
   "outputs": [],
   "source": [
    "# plot the result and save to a .pdf"
   ]
  },
  {
   "cell_type": "code",
   "execution_count": null,
   "metadata": {},
   "outputs": [],
   "source": [
    "# print the result to a file"
   ]
  },
  {
   "cell_type": "markdown",
   "metadata": {},
   "source": [
    "# Numerical analysis\n",
    "\n",
    "Analyze the data using autocorrelation functions and discrete Fourier transforms. Plot your results."
   ]
  },
  {
   "cell_type": "code",
   "execution_count": 168,
   "metadata": {},
   "outputs": [],
   "source": [
    "# define some global functions\n",
    "import numpy as np\n",
    "import matplotlib.pyplot as plt"
   ]
  },
  {
   "cell_type": "markdown",
   "metadata": {},
   "source": [
    "### Task 1: Read in `efield.t` and Fourier-transform relevant columns"
   ]
  },
  {
   "cell_type": "code",
   "execution_count": 179,
   "metadata": {},
   "outputs": [
    {
     "name": "stdout",
     "output_type": "stream",
     "text": [
      "[[ 0.0000000e+00  0.0000000e+00  0.0000000e+00  0.0000000e+00]\n",
      " [ 1.0000000e-01  0.0000000e+00  0.0000000e+00  0.0000000e+00]\n",
      " [ 2.0000000e-01  0.0000000e+00  0.0000000e+00  0.0000000e+00]\n",
      " [ 3.0000000e-01  0.0000000e+00  0.0000000e+00  0.0000000e+00]\n",
      " [ 4.0000000e-01  0.0000000e+00  0.0000000e+00  0.0000000e+00]\n",
      " [ 5.0000000e-01  0.0000000e+00  0.0000000e+00  0.0000000e+00]\n",
      " [ 6.0000000e-01  0.0000000e+00  0.0000000e+00  0.0000000e+00]\n",
      " [ 7.0000000e-01  0.0000000e+00  0.0000000e+00  0.0000000e+00]\n",
      " [ 8.0000000e-01  0.0000000e+00  0.0000000e+00  0.0000000e+00]\n",
      " [ 9.0000000e-01  0.0000000e+00 -0.0000000e+00  0.0000000e+00]\n",
      " [ 1.0000000e+00  0.0000000e+00 -3.4723600e-04  0.0000000e+00]\n",
      " [ 1.1000000e+00  0.0000000e+00 -2.0957940e-03  0.0000000e+00]\n",
      " [ 1.2000000e+00  0.0000000e+00 -4.1337070e-03  0.0000000e+00]\n",
      " [ 1.3000000e+00  0.0000000e+00 -3.0513230e-03  0.0000000e+00]\n",
      " [ 1.4000000e+00  0.0000000e+00  3.7372540e-03  0.0000000e+00]\n",
      " [ 1.5000000e+00  0.0000000e+00  1.4462925e-02  0.0000000e+00]\n",
      " [ 1.6000000e+00  0.0000000e+00  2.2409124e-02  0.0000000e+00]\n",
      " [ 1.7000000e+00  0.0000000e+00  1.9647090e-02  0.0000000e+00]\n",
      " [ 1.8000000e+00  0.0000000e+00  3.0571240e-03  0.0000000e+00]\n",
      " [ 1.9000000e+00  0.0000000e+00 -2.1693145e-02  0.0000000e+00]\n",
      " [ 2.0000000e+00  0.0000000e+00 -4.1740382e-02  0.0000000e+00]\n",
      " [ 2.1000000e+00  0.0000000e+00 -4.4090284e-02  0.0000000e+00]\n",
      " [ 2.2000000e+00  0.0000000e+00 -2.4044045e-02  0.0000000e+00]\n",
      " [ 2.3000000e+00  0.0000000e+00  1.0610180e-02  0.0000000e+00]\n",
      " [ 2.4000000e+00  0.0000000e+00  4.2906291e-02  0.0000000e+00]\n",
      " [ 2.5000000e+00  0.0000000e+00  5.6000000e-02  0.0000000e+00]\n",
      " [ 2.6000000e+00  0.0000000e+00  4.2906291e-02  0.0000000e+00]\n",
      " [ 2.7000000e+00  0.0000000e+00  1.0610180e-02  0.0000000e+00]\n",
      " [ 2.8000000e+00  0.0000000e+00 -2.4044045e-02  0.0000000e+00]\n",
      " [ 2.9000000e+00  0.0000000e+00 -4.4090284e-02  0.0000000e+00]\n",
      " [ 3.0000000e+00  0.0000000e+00 -4.1740382e-02  0.0000000e+00]\n",
      " [ 3.1000000e+00  0.0000000e+00 -2.1693145e-02  0.0000000e+00]\n",
      " [ 3.2000000e+00  0.0000000e+00  3.0571240e-03  0.0000000e+00]\n",
      " [ 3.3000000e+00  0.0000000e+00  1.9647090e-02  0.0000000e+00]\n",
      " [ 3.4000000e+00  0.0000000e+00  2.2409124e-02  0.0000000e+00]\n",
      " [ 3.5000000e+00  0.0000000e+00  1.4462925e-02  0.0000000e+00]\n",
      " [ 3.6000000e+00  0.0000000e+00  3.7372540e-03  0.0000000e+00]\n",
      " [ 3.7000000e+00  0.0000000e+00 -3.0513230e-03  0.0000000e+00]\n",
      " [ 3.8000000e+00  0.0000000e+00 -4.1337070e-03  0.0000000e+00]\n",
      " [ 3.9000000e+00  0.0000000e+00 -2.0957940e-03  0.0000000e+00]\n",
      " [ 4.0000000e+00  0.0000000e+00 -3.4723600e-04  0.0000000e+00]\n",
      " [ 4.1000000e+00  0.0000000e+00 -0.0000000e+00  0.0000000e+00]\n",
      " [ 4.2000000e+00  0.0000000e+00  0.0000000e+00  0.0000000e+00]\n",
      " [ 4.3000000e+00  0.0000000e+00  0.0000000e+00  0.0000000e+00]\n",
      " [ 4.4000000e+00  0.0000000e+00  0.0000000e+00  0.0000000e+00]\n",
      " [ 4.5000000e+00  0.0000000e+00  0.0000000e+00  0.0000000e+00]\n",
      " [ 4.6000000e+00  0.0000000e+00  0.0000000e+00  0.0000000e+00]\n",
      " [ 4.7000000e+00  0.0000000e+00  0.0000000e+00  0.0000000e+00]\n",
      " [ 4.8000000e+00  0.0000000e+00  0.0000000e+00  0.0000000e+00]\n",
      " [ 4.9000000e+00  0.0000000e+00  0.0000000e+00  0.0000000e+00]\n",
      " [ 5.0000000e+00  0.0000000e+00  0.0000000e+00  0.0000000e+00]\n",
      " [ 5.1000000e+00  0.0000000e+00  0.0000000e+00  0.0000000e+00]\n",
      " [ 5.2000000e+00  0.0000000e+00  0.0000000e+00  0.0000000e+00]\n",
      " [ 5.3000000e+00  0.0000000e+00  0.0000000e+00  0.0000000e+00]\n",
      " [ 5.4000000e+00  0.0000000e+00  0.0000000e+00  0.0000000e+00]\n",
      " [ 5.5000000e+00  0.0000000e+00  0.0000000e+00  0.0000000e+00]\n",
      " [ 5.6000000e+00  0.0000000e+00  0.0000000e+00  0.0000000e+00]\n",
      " [ 5.7000000e+00  0.0000000e+00  0.0000000e+00  0.0000000e+00]\n",
      " [ 5.8000000e+00  0.0000000e+00  0.0000000e+00  0.0000000e+00]\n",
      " [ 5.9000000e+00  0.0000000e+00  0.0000000e+00  0.0000000e+00]\n",
      " [ 6.0000000e+00  0.0000000e+00  0.0000000e+00  0.0000000e+00]\n",
      " [ 6.1000000e+00  0.0000000e+00  0.0000000e+00  0.0000000e+00]\n",
      " [ 6.2000000e+00  0.0000000e+00  0.0000000e+00  0.0000000e+00]\n",
      " [ 6.3000000e+00  0.0000000e+00  0.0000000e+00  0.0000000e+00]\n",
      " [ 6.4000000e+00  0.0000000e+00  0.0000000e+00  0.0000000e+00]\n",
      " [ 6.5000000e+00  0.0000000e+00  0.0000000e+00  0.0000000e+00]\n",
      " [ 6.6000000e+00  0.0000000e+00  0.0000000e+00  0.0000000e+00]\n",
      " [ 6.7000000e+00  0.0000000e+00  0.0000000e+00  0.0000000e+00]\n",
      " [ 6.8000000e+00  0.0000000e+00  0.0000000e+00  0.0000000e+00]\n",
      " [ 6.9000000e+00  0.0000000e+00  0.0000000e+00  0.0000000e+00]\n",
      " [ 7.0000000e+00  0.0000000e+00  0.0000000e+00  0.0000000e+00]\n",
      " [ 7.1000000e+00  0.0000000e+00  0.0000000e+00  0.0000000e+00]\n",
      " [ 7.2000000e+00  0.0000000e+00  0.0000000e+00  0.0000000e+00]\n",
      " [ 7.3000000e+00  0.0000000e+00  0.0000000e+00  0.0000000e+00]\n",
      " [ 7.4000000e+00  0.0000000e+00  0.0000000e+00  0.0000000e+00]\n",
      " [ 7.5000000e+00  0.0000000e+00  0.0000000e+00  0.0000000e+00]\n",
      " [ 7.6000000e+00  0.0000000e+00  0.0000000e+00  0.0000000e+00]\n",
      " [ 7.7000000e+00  0.0000000e+00  0.0000000e+00  0.0000000e+00]\n",
      " [ 7.8000000e+00  0.0000000e+00  0.0000000e+00  0.0000000e+00]\n",
      " [ 7.9000000e+00  0.0000000e+00  0.0000000e+00  0.0000000e+00]\n",
      " [ 8.0000000e+00  0.0000000e+00  0.0000000e+00  0.0000000e+00]\n",
      " [ 8.1000000e+00  0.0000000e+00  0.0000000e+00  0.0000000e+00]\n",
      " [ 8.2000000e+00  0.0000000e+00  0.0000000e+00  0.0000000e+00]\n",
      " [ 8.3000000e+00  0.0000000e+00  0.0000000e+00  0.0000000e+00]\n",
      " [ 8.4000000e+00  0.0000000e+00  0.0000000e+00  0.0000000e+00]\n",
      " [ 8.5000000e+00  0.0000000e+00  0.0000000e+00  0.0000000e+00]\n",
      " [ 8.6000000e+00  0.0000000e+00  0.0000000e+00  0.0000000e+00]\n",
      " [ 8.7000000e+00  0.0000000e+00  0.0000000e+00  0.0000000e+00]\n",
      " [ 8.8000000e+00  0.0000000e+00  0.0000000e+00  0.0000000e+00]\n",
      " [ 8.9000000e+00  0.0000000e+00  0.0000000e+00  0.0000000e+00]\n",
      " [ 9.0000000e+00  0.0000000e+00  0.0000000e+00  0.0000000e+00]\n",
      " [ 9.1000000e+00  0.0000000e+00  0.0000000e+00  0.0000000e+00]\n",
      " [ 9.2000000e+00  0.0000000e+00  0.0000000e+00  0.0000000e+00]\n",
      " [ 9.3000000e+00  0.0000000e+00  0.0000000e+00  0.0000000e+00]\n",
      " [ 9.4000000e+00  0.0000000e+00  0.0000000e+00  0.0000000e+00]\n",
      " [ 9.5000000e+00  0.0000000e+00  0.0000000e+00  0.0000000e+00]\n",
      " [ 9.6000000e+00  0.0000000e+00  0.0000000e+00  0.0000000e+00]\n",
      " [ 9.7000000e+00  0.0000000e+00  0.0000000e+00  0.0000000e+00]\n",
      " [ 9.8000000e+00  0.0000000e+00  0.0000000e+00  0.0000000e+00]\n",
      " [ 9.9000000e+00  0.0000000e+00  0.0000000e+00  0.0000000e+00]\n",
      " [ 1.0000000e+01  0.0000000e+00  0.0000000e+00  0.0000000e+00]]\n"
     ]
    }
   ],
   "source": [
    "# read and plot efield.t\n",
    "data_efield= np.loadtxt('C:\\\\Users\\\\carol\\\\development-repo-individual-work-CaroLin218\\\\data\\\\efield.t', skiprows=1)\n",
    "print(data_efield)"
   ]
  },
  {
   "cell_type": "markdown",
   "metadata": {},
   "source": [
    "Here we are interested in column 2 since the others are constant."
   ]
  },
  {
   "cell_type": "code",
   "execution_count": 180,
   "metadata": {},
   "outputs": [
    {
     "name": "stdout",
     "output_type": "stream",
     "text": [
      "[ 0.   0.1  0.2  0.3  0.4  0.5  0.6  0.7  0.8  0.9  1.   1.1  1.2  1.3\n",
      "  1.4  1.5  1.6  1.7  1.8  1.9  2.   2.1  2.2  2.3  2.4  2.5  2.6  2.7\n",
      "  2.8  2.9  3.   3.1  3.2  3.3  3.4  3.5  3.6  3.7  3.8  3.9  4.   4.1\n",
      "  4.2  4.3  4.4  4.5  4.6  4.7  4.8  4.9  5.   5.1  5.2  5.3  5.4  5.5\n",
      "  5.6  5.7  5.8  5.9  6.   6.1  6.2  6.3  6.4  6.5  6.6  6.7  6.8  6.9\n",
      "  7.   7.1  7.2  7.3  7.4  7.5  7.6  7.7  7.8  7.9  8.   8.1  8.2  8.3\n",
      "  8.4  8.5  8.6  8.7  8.8  8.9  9.   9.1  9.2  9.3  9.4  9.5  9.6  9.7\n",
      "  9.8  9.9 10. ]\n",
      "[[ 0.        ]\n",
      " [ 0.        ]\n",
      " [ 0.        ]\n",
      " [ 0.        ]\n",
      " [ 0.        ]\n",
      " [ 0.        ]\n",
      " [ 0.        ]\n",
      " [ 0.        ]\n",
      " [ 0.        ]\n",
      " [-0.        ]\n",
      " [-0.00034724]\n",
      " [-0.00209579]\n",
      " [-0.00413371]\n",
      " [-0.00305132]\n",
      " [ 0.00373725]\n",
      " [ 0.01446292]\n",
      " [ 0.02240912]\n",
      " [ 0.01964709]\n",
      " [ 0.00305712]\n",
      " [-0.02169315]\n",
      " [-0.04174038]\n",
      " [-0.04409028]\n",
      " [-0.02404405]\n",
      " [ 0.01061018]\n",
      " [ 0.04290629]\n",
      " [ 0.056     ]\n",
      " [ 0.04290629]\n",
      " [ 0.01061018]\n",
      " [-0.02404405]\n",
      " [-0.04409028]\n",
      " [-0.04174038]\n",
      " [-0.02169315]\n",
      " [ 0.00305712]\n",
      " [ 0.01964709]\n",
      " [ 0.02240912]\n",
      " [ 0.01446292]\n",
      " [ 0.00373725]\n",
      " [-0.00305132]\n",
      " [-0.00413371]\n",
      " [-0.00209579]\n",
      " [-0.00034724]\n",
      " [-0.        ]\n",
      " [ 0.        ]\n",
      " [ 0.        ]\n",
      " [ 0.        ]\n",
      " [ 0.        ]\n",
      " [ 0.        ]\n",
      " [ 0.        ]\n",
      " [ 0.        ]\n",
      " [ 0.        ]\n",
      " [ 0.        ]\n",
      " [ 0.        ]\n",
      " [ 0.        ]\n",
      " [ 0.        ]\n",
      " [ 0.        ]\n",
      " [ 0.        ]\n",
      " [ 0.        ]\n",
      " [ 0.        ]\n",
      " [ 0.        ]\n",
      " [ 0.        ]\n",
      " [ 0.        ]\n",
      " [ 0.        ]\n",
      " [ 0.        ]\n",
      " [ 0.        ]\n",
      " [ 0.        ]\n",
      " [ 0.        ]\n",
      " [ 0.        ]\n",
      " [ 0.        ]\n",
      " [ 0.        ]\n",
      " [ 0.        ]\n",
      " [ 0.        ]\n",
      " [ 0.        ]\n",
      " [ 0.        ]\n",
      " [ 0.        ]\n",
      " [ 0.        ]\n",
      " [ 0.        ]\n",
      " [ 0.        ]\n",
      " [ 0.        ]\n",
      " [ 0.        ]\n",
      " [ 0.        ]\n",
      " [ 0.        ]\n",
      " [ 0.        ]\n",
      " [ 0.        ]\n",
      " [ 0.        ]\n",
      " [ 0.        ]\n",
      " [ 0.        ]\n",
      " [ 0.        ]\n",
      " [ 0.        ]\n",
      " [ 0.        ]\n",
      " [ 0.        ]\n",
      " [ 0.        ]\n",
      " [ 0.        ]\n",
      " [ 0.        ]\n",
      " [ 0.        ]\n",
      " [ 0.        ]\n",
      " [ 0.        ]\n",
      " [ 0.        ]\n",
      " [ 0.        ]\n",
      " [ 0.        ]\n",
      " [ 0.        ]\n",
      " [ 0.        ]]\n"
     ]
    }
   ],
   "source": [
    "# discard the columns with variance below threshold - these are considered constant\n",
    "ind=[0]\n",
    "time= data_efield[:,0]\n",
    "print(time)\n",
    "for i in range(1, 4):\n",
    "    if np.var(data_efield[ :,i]) <1e-4:\n",
    "        ind.append(i)\n",
    "data_efield = np.delete(data_efield, ind, axis=1)\n",
    "#data_efield = np.concatenate(data_efield)\n",
    "print(data_efield)"
   ]
  },
  {
   "cell_type": "code",
   "execution_count": 196,
   "metadata": {},
   "outputs": [
    {
     "name": "stdout",
     "output_type": "stream",
     "text": [
      "[ 7.26814400e-03+0.00000000e+00j  6.46259906e-05-4.15502549e-03j\n",
      "  3.76586260e-03+1.17174487e-04j  5.50969094e-04-1.18002764e-02j\n",
      " -1.15083814e-02-7.16858592e-04j  6.24998929e-04-8.02110389e-03j\n",
      " -5.61568135e-02-5.25551567e-03j -1.47626228e-02+1.35066131e-01j\n",
      "  2.35411148e-01+2.94418189e-02j  4.74200878e-02-3.36567401e-01j\n",
      " -4.12515967e-01-6.46786150e-02j -7.62597723e-02+4.41406037e-01j\n",
      "  4.14420738e-01+7.82536930e-02j  6.96021358e-02-3.39551767e-01j\n",
      " -2.38341438e-01-5.27310080e-02j -3.26021035e-02+1.37206844e-01j\n",
      "  5.75868428e-02+1.46331401e-02j  2.54993131e-03-9.41874876e-03j\n",
      "  9.63417709e-03+2.76976414e-03j  3.00559657e-03-9.87356422e-03j\n",
      " -3.15752294e-03-1.01509401e-03j  7.51596262e-04-2.21885403e-03j\n",
      " -3.37102284e-03-1.20062980e-03j -5.75245238e-04+1.53896863e-03j\n",
      " -6.55180982e-04-2.56579787e-04j -6.08138560e-04+1.48447532e-03j\n",
      "  8.78082747e-04+3.75772128e-04j -8.20923275e-05+1.83869084e-04j\n",
      "  7.45320614e-04+3.46765023e-04j  2.64961919e-04-5.47086382e-04j\n",
      "  1.84330990e-05+9.28405729e-06j  2.11239955e-04-4.03656933e-04j\n",
      " -3.61006162e-04-1.96131532e-04j -2.37370861e-05+4.21163305e-05j\n",
      " -2.28576887e-04-1.33553652e-04j -1.50501379e-04+2.48623652e-04j\n",
      "  6.27385684e-05+3.93241108e-05j -8.59015672e-05+1.32427061e-04j\n",
      "  1.77612958e-04+1.19177283e-04j  4.70154908e-05-6.77662987e-05j\n",
      "  7.68623547e-05+5.51164856e-05j  9.74539653e-05-1.31535022e-04j\n",
      " -6.72788941e-05-5.14865127e-05j  3.41726144e-05-4.32439104e-05j\n",
      " -1.01293431e-04-8.26362272e-05j -5.54013707e-05+6.57935503e-05j\n",
      " -2.16798290e-05-1.88394114e-05j -7.30714725e-05+8.14932993e-05j\n",
      "  6.55122537e-05+6.06061590e-05j -6.14625692e-06+6.43992903e-06j\n",
      "  6.87068582e-05+6.76465230e-05j]\n",
      "[0.         0.00990099 0.01980198 0.02970297 0.03960396 0.04950495\n",
      " 0.05940594 0.06930693 0.07920792 0.08910891 0.0990099  0.10891089\n",
      " 0.11881188 0.12871287 0.13861386 0.14851485 0.15841584 0.16831683\n",
      " 0.17821782 0.18811881 0.1980198  0.20792079 0.21782178 0.22772277\n",
      " 0.23762376 0.24752475 0.25742574 0.26732673 0.27722772 0.28712871\n",
      " 0.2970297  0.30693069 0.31683168 0.32673267 0.33663366 0.34653465\n",
      " 0.35643564 0.36633663 0.37623762 0.38613861 0.3960396  0.40594059\n",
      " 0.41584158 0.42574257 0.43564356 0.44554455 0.45544554 0.46534653\n",
      " 0.47524752 0.48514851 0.4950495 ]\n"
     ]
    }
   ],
   "source": [
    "# discrete Fourier transform of the remaining column: You only need the real frequencies\n",
    "data_efield_four= np.fft.rfft(data_efield[:,0])#.real\n",
    "freq = np.fft.rfftfreq(len(data_efield[:,0]))\n",
    "print(data_efield_four)\n",
    "print(freq)"
   ]
  },
  {
   "cell_type": "markdown",
   "metadata": {},
   "source": [
    "### Task 2: Generate a plot of your results to be saved as pdf."
   ]
  },
  {
   "cell_type": "code",
   "execution_count": 198,
   "metadata": {},
   "outputs": [
    {
     "data": {
      "image/png": "[encoded data removed]",
      "text/plain": [
       "<Figure size 640x480 with 1 Axes>"
      ]
     },
     "metadata": {},
     "output_type": "display_data"
    }
   ],
   "source": [
    "# plot your results\n",
    "plt.plot(freq, abs(data_efield_four)**2)\n",
    "#plt.plot(data_efield)\n",
    "plt.savefig(\"DataEFieldFourreirTransformed.pdf\", format=\"pdf\", bbox_inches=\"tight\")\n",
    "plt.show()"
   ]
  },
  {
   "cell_type": "markdown",
   "metadata": {},
   "source": [
    "### Task 3: Calculate the autocorrelation function from nstate_i.t\n",
    "The autocorrelation function measures how correlated subsequent vectors are with an initial vector; ie. \n",
    "\n",
    "$\\Psi_{corr} = \\langle \\Psi(t=0) | \\Psi(t) \\rangle = \\int_0^{tfin} \\Psi(0)^* \\Psi(t) dt$\n",
    "\n",
    "Since we are in a numerical representation, the integral can be replaced with a sum; and the given vectors are already normalized."
   ]
  },
  {
   "cell_type": "code",
   "execution_count": 231,
   "metadata": {},
   "outputs": [
    {
     "name": "stdout",
     "output_type": "stream",
     "text": [
      "[[ 0.          1.          0.         ...  0.          0.\n",
      "   0.        ]\n",
      " [ 0.1         1.         -0.         ...  0.          0.\n",
      "   0.        ]\n",
      " [ 0.2         1.         -0.         ...  0.          0.\n",
      "   0.        ]\n",
      " ...\n",
      " [ 9.8         0.88892986  0.19466015 ...  0.          0.\n",
      "   0.        ]\n",
      " [ 9.9         0.88892986  0.19466015 ...  0.          0.\n",
      "   0.        ]\n",
      " [10.          0.88892986  0.19466015 ...  0.          0.\n",
      "   0.        ]]\n"
     ]
    }
   ],
   "source": [
    "# read in as numpy array\n",
    "data_nstate= np.loadtxt('C:\\\\Users\\\\carol\\\\development-repo-individual-work-CaroLin218\\\\data\\\\nstate_i.t', skiprows=1)\n",
    "print(data_nstate)"
   ]
  },
  {
   "cell_type": "code",
   "execution_count": 232,
   "metadata": {},
   "outputs": [
    {
     "name": "stdout",
     "output_type": "stream",
     "text": [
      "101\n",
      "[[ 1.          0.          0.         ...  0.          0.\n",
      "   0.        ]\n",
      " [ 1.         -0.          0.         ...  0.          0.\n",
      "   0.        ]\n",
      " [ 1.         -0.          0.         ...  0.          0.\n",
      "   0.        ]\n",
      " ...\n",
      " [ 0.88892986  0.19466015  0.         ...  0.          0.\n",
      "   0.        ]\n",
      " [ 0.88892986  0.19466015  0.         ...  0.          0.\n",
      "   0.        ]\n",
      " [ 0.88892986  0.19466015  0.         ...  0.          0.\n",
      "   0.        ]]\n"
     ]
    }
   ],
   "source": [
    "# store the time column (column 0) in a vector and drop from array\n",
    "time = data_nstate[:, 0]\n",
    "print(len(time))\n",
    "data_nstate = np.delete(data_nstate, 0, axis=1)\n",
    "print(data_nstate)"
   ]
  },
  {
   "cell_type": "code",
   "execution_count": 236,
   "metadata": {},
   "outputs": [
    {
     "name": "stdout",
     "output_type": "stream",
     "text": [
      "[[0.         0.         0.         ... 0.         0.         0.        ]\n",
      " [0.         0.         0.         ... 0.         0.         0.        ]\n",
      " [0.         0.         0.         ... 0.         0.         0.        ]\n",
      " ...\n",
      " [0.19466015 0.         0.         ... 0.         0.         0.        ]\n",
      " [0.19466015 0.         0.         ... 0.         0.         0.        ]\n",
      " [0.19466015 0.         0.         ... 0.         0.         0.        ]]\n"
     ]
    }
   ],
   "source": [
    "# correct the data representation: this is in fact a complex matrix\n",
    "# the real part of each matrix column is contained in numpy array column 0, 2, 4, 6, ...\n",
    "# the imaginary part of each matrix column is contained in numpy array column 1, 3, 5, 7, ...\n",
    "# convert the array that was read as dtype=float into a dtype=complex array\n",
    "data_complex= data_nstate[:, ::2] +1j*data_nstate[:, 1::2]\n",
    "print(data_complex.imag)"
   ]
  },
  {
   "cell_type": "code",
   "execution_count": 259,
   "metadata": {},
   "outputs": [
    {
     "name": "stdout",
     "output_type": "stream",
     "text": [
      "[ 8.75199918e+01-1.75469067e-16j  0.00000000e+00+0.00000000e+00j\n",
      "  1.16796092e-13-5.33357914e-13j -9.23768356e-07-2.89428594e-06j\n",
      " -4.09049885e-01+7.22147968e-01j  5.26011919e-06+1.38401405e-05j\n",
      " -7.44018133e-06+7.97266634e-06j  0.00000000e+00+0.00000000e+00j\n",
      "  0.00000000e+00+0.00000000e+00j  5.24131179e-07+1.45627769e-06j\n",
      "  2.12246444e-05-1.75153569e-06j  0.00000000e+00+0.00000000e+00j\n",
      "  0.00000000e+00+0.00000000e+00j  6.78270198e-07+1.00368081e-06j\n",
      "  0.00000000e+00+0.00000000e+00j  0.00000000e+00+0.00000000e+00j\n",
      " -1.12315850e-01-3.13280432e-02j -1.49884878e-06-5.21297890e-08j\n",
      "  8.49168114e-06-3.78985660e-07j  0.00000000e+00+0.00000000e+00j\n",
      "  0.00000000e+00+0.00000000e+00j -3.77821491e-06-1.24640471e-06j\n",
      " -3.11044574e-06+7.95560254e-07j  0.00000000e+00+0.00000000e+00j\n",
      "  0.00000000e+00+0.00000000e+00j -1.24828100e-06-2.05674667e-06j\n",
      "  0.00000000e+00+0.00000000e+00j  0.00000000e+00+0.00000000e+00j\n",
      " -2.43391713e-01+2.37002349e-01j  0.00000000e+00+0.00000000e+00j\n",
      "  0.00000000e+00+0.00000000e+00j  3.54894826e-08+4.65989441e-07j\n",
      " -5.19624663e-02-5.75349891e-03j -2.05890902e-02+1.23926517e-02j\n",
      " -6.86904107e-08+1.64515932e-07j -1.54575985e-06+6.38906708e-07j\n",
      "  0.00000000e+00+0.00000000e+00j  0.00000000e+00+0.00000000e+00j\n",
      " -1.52940520e-06-1.64191984e-06j -5.07652401e-07+1.60955383e-06j\n",
      "  9.16270225e-08-5.81942513e-08j -2.89530155e-06+1.05571026e-06j\n",
      "  0.00000000e+00+0.00000000e+00j  0.00000000e+00+0.00000000e+00j\n",
      "  1.21357623e-06-1.64855168e-07j  7.89545318e-08-2.63856610e-07j\n",
      " -2.56260536e-03+2.95441469e-04j  3.37657036e-02+8.66278857e-04j\n",
      "  3.48496860e-08-4.62024791e-07j  0.00000000e+00+0.00000000e+00j\n",
      "  0.00000000e+00+0.00000000e+00j  0.00000000e+00+0.00000000e+00j\n",
      "  0.00000000e+00+0.00000000e+00j -2.37222354e-07-1.65785126e-06j\n",
      " -2.35969177e-06+3.89870790e-06j  0.00000000e+00+0.00000000e+00j\n",
      "  0.00000000e+00+0.00000000e+00j  0.00000000e+00+0.00000000e+00j\n",
      "  0.00000000e+00+0.00000000e+00j  2.63919278e-07-6.75858229e-08j\n",
      "  0.00000000e+00+0.00000000e+00j  0.00000000e+00+0.00000000e+00j\n",
      "  0.00000000e+00+0.00000000e+00j  0.00000000e+00+0.00000000e+00j\n",
      "  6.98162176e-03+2.25031807e-02j  9.59818083e-03+2.97745054e-02j\n",
      "  1.42096681e-02-1.67048510e-03j  1.19148601e-07-2.61678286e-07j\n",
      " -1.63561044e-06+5.82162418e-07j  0.00000000e+00+0.00000000e+00j\n",
      "  0.00000000e+00+0.00000000e+00j  7.42127090e-07-6.91451870e-07j\n",
      "  1.61660818e-07-1.16054971e-07j  0.00000000e+00+0.00000000e+00j\n",
      "  0.00000000e+00+0.00000000e+00j  2.28081872e-03-2.59224987e-02j\n",
      " -1.44324893e-07-2.23522795e-07j  0.00000000e+00+0.00000000e+00j\n",
      "  0.00000000e+00+0.00000000e+00j  0.00000000e+00+0.00000000e+00j\n",
      "  0.00000000e+00+0.00000000e+00j  2.03002636e-05+2.96242906e-06j\n",
      "  2.69455058e-09+3.66818163e-07j  8.69370518e-08-4.04407146e-07j\n",
      "  0.00000000e+00+0.00000000e+00j  0.00000000e+00+0.00000000e+00j\n",
      "  5.43599135e-08+2.23269992e-07j -2.29836393e-07+2.85254535e-08j\n",
      "  0.00000000e+00+0.00000000e+00j  0.00000000e+00+0.00000000e+00j\n",
      "  2.98745036e-07-1.96146890e-07j  3.23768859e-07+2.12752458e-07j\n",
      "  0.00000000e+00+0.00000000e+00j  0.00000000e+00+0.00000000e+00j\n",
      "  0.00000000e+00+0.00000000e+00j  0.00000000e+00+0.00000000e+00j\n",
      " -2.87960335e-07-9.54880046e-08j  2.49379734e-02-7.17475100e-03j\n",
      "  1.47827911e-02-2.54846621e-03j -4.01425372e-07+9.74798587e-09j\n",
      "  4.03534675e-07-2.58636269e-07j]\n"
     ]
    }
   ],
   "source": [
    "# for the autocorrelation function, we want the overlap between the first vector at time 0 and all\n",
    "# subsequent vectors at later times - the sum of the product of initial and subsequent vectors for each time step\n",
    "autocorrelation=np.zeros(len(time), dtype=complex)\n",
    "for j in range(0, len(time)):\n",
    "    autocorrelation[j]=np.sum(data_complex[:, 0] * np.conjugate(data_complex[:, j]))\n",
    "#print(temp)  \n",
    "print((autocorrelation))\n"
   ]
  },
  {
   "cell_type": "markdown",
   "metadata": {},
   "source": [
    "### Task 4: Generate a plot of your results to be saved as pdf."
   ]
  },
  {
   "cell_type": "code",
   "execution_count": 260,
   "metadata": {},
   "outputs": [
    {
     "data": {
      "image/png": "[encoded data removed]",
      "text/plain": [
       "<Figure size 640x480 with 1 Axes>"
      ]
     },
     "metadata": {},
     "output_type": "display_data"
    }
   ],
   "source": [
    "# plot the autocorrelation function - real, imaginary and absolute part\n",
    "#print(autocorrelation)\n",
    "plt.plot(time, autocorrelation.real, label='Real part', alpha=0.6)\n",
    "plt.plot(time, autocorrelation.imag, label='Imaginary part', alpha=0.3)\n",
    "plt.plot(time, np.absolute(autocorrelation), label='Absolute value', alpha=0.3)\n",
    "plt.legend(loc='best')\n",
    "plt.savefig(\"nStatePlots.pdf\", format=\"pdf\", bbox_inches=\"tight\")\n",
    "plt.show()"
   ]
  },
  {
   "cell_type": "markdown",
   "metadata": {},
   "source": [
    "### Task 5: Discrete Fourier transform of the autocorrelation function"
   ]
  },
  {
   "cell_type": "code",
   "execution_count": 261,
   "metadata": {},
   "outputs": [
    {
     "name": "stdout",
     "output_type": "stream",
     "text": [
      "[86.78670752+0.95060698j 87.50448557+1.12670349j 87.8178687 +0.59120384j\n",
      " 87.410811  +0.79616289j 87.99717067+1.07034852j 88.55219219+0.43806278j\n",
      " 87.96632913+0.17747476j 87.8459881 +0.4783316j  88.62210773+0.51272976j\n",
      " 88.6143732 -0.27074109j 88.06827724-0.46100138j 88.12478899-0.29944676j\n",
      " 88.16745627-0.66355548j 87.80270097-1.03806153j 87.24894244-0.63131903j\n",
      " 87.50695745-0.48172317j 87.63440828-0.91077552j 87.01331968-1.01270465j\n",
      " 86.52336786-0.56417946j 86.90677567-0.19649943j 86.81085513-0.44777168j\n",
      " 86.42447486-0.05823944j 86.71441129+0.55490754j 87.2122649 +0.33933015j\n",
      " 86.94545784-0.01256527j 86.61116799+0.79798655j 87.33151459+1.1260505j\n",
      " 87.75519953+0.68081891j 87.53345113+0.65392411j 87.77902644+1.05232541j\n",
      " 88.46840567+0.68429043j 88.11248543+0.04442985j 87.89394241+0.38004122j\n",
      " 88.3706653 +0.61986783j 88.69735582-0.06469865j 88.25536471-0.61192151j\n",
      " 88.04941088-0.25327937j 88.25074987-0.5269712j  87.92263265-0.99129883j\n",
      " 87.34164157-0.85395366j 87.44853493-0.39313537j 87.75203977-0.734887j\n",
      " 87.08020005-1.10031818j 86.66994726-0.69330093j 86.82678832-0.1925094j\n",
      " 86.88954757-0.33850728j 86.43253804-0.24445572j 86.64001151+0.47889634j\n",
      " 87.1476595 +0.44695691j 87.03263715+0.12489436j]\n"
     ]
    }
   ],
   "source": [
    "# discrete Fourier-transform the autocorrelation function - now we need all frequency components,\n",
    "# also the negative ones\n",
    "autocorr_nState_four= np.fft.fft(autocorrelation)[0:len(time)//2]\n",
    "print(autocorr_nState_four)"
   ]
  },
  {
   "cell_type": "markdown",
   "metadata": {},
   "source": [
    "### Task 6: Generate a plot of your results to be saved as pdf."
   ]
  },
  {
   "cell_type": "code",
   "execution_count": 262,
   "metadata": {},
   "outputs": [
    {
     "data": {
      "image/png": "[encoded data removed]",
      "text/plain": [
       "<Figure size 640x480 with 1 Axes>"
      ]
     },
     "metadata": {},
     "output_type": "display_data"
    }
   ],
   "source": [
    "# plot the power spectrum (abs**2)\n",
    "freq= np.fft.fftfreq(len(time))[0:len(time)//2]\n",
    "power_spectrum = abs(autocorr_nState_four)**2\n",
    "plt.plot(freq, abs(autocorr_nState_four))#power_spectrum)\n",
    "plt.savefig(\"powerspectrum.pdf\", format=\"pdf\", bbox_inches=\"tight\")"
   ]
  }
 ],
 "metadata": {
  "kernelspec": {
   "display_name": "base",
   "language": "python",
   "name": "python3"
  },
  "language_info": {
   "codemirror_mode": {
    "name": "ipython",
    "version": 3
   },
   "file_extension": ".py",
   "mimetype": "text/x-python",
   "name": "python",
   "nbconvert_exporter": "python",
   "pygments_lexer": "ipython3",
   "version": "3.12.7"
  }
 },
 "nbformat": 4,
 "nbformat_minor": 4
}
